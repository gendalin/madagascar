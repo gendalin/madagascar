{
 "cells": [
  {
   "cell_type": "code",
   "execution_count": 7,
   "metadata": {},
   "outputs": [],
   "source": [
    "import geopandas as gpd\n",
    "import pandas as pd\n",
    "from shapely.geometry import Point\n"
   ]
  },
  {
   "cell_type": "code",
   "execution_count": 8,
   "metadata": {},
   "outputs": [],
   "source": [
    "# load GeoJSON file（570 polygons）\n",
    "polygons = gpd.read_file('/Users/koko.lv/Documents/GitHub/colloquium_2_2024/Data/BK/brooklyn_grid_300m_within_polygon.geojson')\n",
    "\n",
    "# load muiltiple csv files (with lat,lon,attributes)\n",
    "csv_files = ['/Users/koko.lv/Documents/GitHub/colloquium_2_2024/Data/BK/BK_RentPricing_zillow_2024_updated_geolocation.csv', \n",
    "             '/Users/koko.lv/Documents/GitHub/colloquium_2_2024/Data/BK/googlemaps_nearby_musicVenue_20collection.csv', \n",
    "             '/Users/koko.lv/Documents/GitHub/colloquium_2_2024/Data/BK/NumFloor_updated.csv']\n",
    "dataframes = [pd.read_csv(file) for file in csv_files]\n",
    "\n",
    "# integrateall CSV to a single DataFrame\n",
    "points_data = pd.concat(dataframes, ignore_index=True)\n",
    "\n",
    "# rename latitude 和 longitude\n",
    "points_data = points_data.rename(columns={\"latitude\": \"lat\", \"longitude\": \"lon\"})\n"
   ]
  },
  {
   "cell_type": "code",
   "execution_count": 9,
   "metadata": {},
   "outputs": [],
   "source": [
    "from shapely.geometry import Point\n",
    "\n",
    "# tranform latitude and longitude to geometry (Point) \n",
    "geometry = [Point(xy) for xy in zip(points_data['lon'], points_data['lat'])]\n",
    "points_gdf = gpd.GeoDataFrame(points_data, geometry=geometry)\n",
    "\n",
    "# make sure data and polygon share the same CRS \n",
    "points_gdf.crs = polygons.crs\n"
   ]
  },
  {
   "cell_type": "code",
   "execution_count": 10,
   "metadata": {},
   "outputs": [
    {
     "name": "stdout",
     "output_type": "stream",
     "text": [
      "   ID_left neighbourhood                     address        lat        lon  \\\n",
      "2      3.0    Greenpoint    527 Leonard St, Brooklyn  40.722986 -73.949610   \n",
      "3      4.0    Greenpoint    109 Russell St, Brooklyn  40.724278 -73.944529   \n",
      "4      5.0    Greenpoint      16 Dupont St, Brooklyn  40.735521 -73.957986   \n",
      "5      6.0    Greenpoint  87 Commercial St, Brooklyn  40.737469 -73.956543   \n",
      "6      7.0    Greenpoint    536 Graham Ave, Brooklyn  40.721274 -73.946725   \n",
      "\n",
      "     type   price  zipcode  Index Name Type Address  BuildingType  NumFloors  \\\n",
      "2  Studio  2450.0  11222.0    NaN  NaN  NaN     NaN           NaN        NaN   \n",
      "3      1b  3450.0  11222.0    NaN  NaN  NaN     NaN           NaN        NaN   \n",
      "4      1b  4395.0  11222.0    NaN  NaN  NaN     NaN           NaN        NaN   \n",
      "5      1b  4475.0  11222.0    NaN  NaN  NaN     NaN           NaN        NaN   \n",
      "6      1b  2600.0  11222.0    NaN  NaN  NaN     NaN           NaN        NaN   \n",
      "\n",
      "   LandUse                    geometry  index_right  ID_right  \n",
      "2      NaN  POINT (-73.94961 40.72299)          536       537  \n",
      "3      NaN  POINT (-73.94453 40.72428)          526       527  \n",
      "4      NaN  POINT (-73.95799 40.73552)          560       561  \n",
      "5      NaN  POINT (-73.95654 40.73747)          560       561  \n",
      "6      NaN  POINT (-73.94672 40.72127)          521       522  \n"
     ]
    }
   ],
   "source": [
    "# spatial join\n",
    "joined = gpd.sjoin(points_gdf, polygons, how=\"inner\", predicate=\"within\")\n",
    "\n",
    "# result?\n",
    "print(joined.head())\n",
    "\n",
    "# joined 包含點數據的屬性和多邊形的屬性，現在可以進一步處理。\n"
   ]
  },
  {
   "cell_type": "code",
   "execution_count": 14,
   "metadata": {},
   "outputs": [
    {
     "name": "stdout",
     "output_type": "stream",
     "text": [
      "Index(['ID_left', 'neighbourhood', 'address', 'lat', 'lon', 'type', 'price',\n",
      "       'zipcode', 'Index', 'Name', 'Type', 'Address', 'BuildingType',\n",
      "       'NumFloors', 'LandUse', 'geometry', 'index_right', 'ID_right'],\n",
      "      dtype='object')\n",
      "Index(['ID', 'geometry'], dtype='object')\n"
     ]
    }
   ],
   "source": [
    "print(joined.columns)  # 查看 'joined' 中的列名\n",
    "print(polygons.columns)  # 查看 'polygons' 中的列名\n"
   ]
  },
  {
   "cell_type": "code",
   "execution_count": 16,
   "metadata": {},
   "outputs": [
    {
     "name": "stdout",
     "output_type": "stream",
     "text": [
      "Index(['ID_left', 'neighbourhood', 'address', 'lat', 'lon', 'type', 'price',\n",
      "       'zipcode', 'Index', 'Name', 'Type', 'Address', 'BuildingType',\n",
      "       'NumFloors', 'LandUse', 'geometry', 'index_right', 'ID_right'],\n",
      "      dtype='object')\n"
     ]
    }
   ],
   "source": [
    "print(joined.columns)"
   ]
  },
  {
   "cell_type": "markdown",
   "metadata": {},
   "source": []
  },
  {
   "cell_type": "code",
   "execution_count": 37,
   "metadata": {},
   "outputs": [
    {
     "name": "stdout",
     "output_type": "stream",
     "text": [
      "Index(['polygon_id', 'geometry'], dtype='object')\n",
      "Index(['ID_left', 'price', 'NumFloors'], dtype='object')\n"
     ]
    }
   ],
   "source": [
    "print(polygons.columns)  # 查看 polygons 中的列名\n",
    "print(aggregated_data.columns)  # 查看 aggregated_data 中的列名"
   ]
  },
  {
   "cell_type": "code",
   "execution_count": 38,
   "metadata": {},
   "outputs": [],
   "source": [
    "polygons = polygons.rename(columns={'polygon_id': 'ID_left'})\n"
   ]
  },
  {
   "cell_type": "code",
   "execution_count": 39,
   "metadata": {},
   "outputs": [
    {
     "name": "stdout",
     "output_type": "stream",
     "text": [
      "   ID_left                                           geometry\n",
      "0        1  POLYGON ((-73.98524 40.67607, -73.98475 40.676...\n",
      "1        2  POLYGON ((-73.98524 40.67607, -73.98524 40.678...\n",
      "2        3  POLYGON ((-73.98254 40.68147, -73.98055 40.681...\n",
      "3        4  POLYGON ((-73.96364 40.68147, -73.96364 40.681...\n",
      "4        5  POLYGON ((-73.96094 40.68147, -73.95824 40.681...\n"
     ]
    }
   ],
   "source": [
    "print(polygons.head())"
   ]
  },
  {
   "cell_type": "code",
   "execution_count": 40,
   "metadata": {},
   "outputs": [
    {
     "name": "stdout",
     "output_type": "stream",
     "text": [
      "Index(['ID_left', 'geometry'], dtype='object')\n",
      "Index(['ID_left', 'price', 'NumFloors'], dtype='object')\n"
     ]
    }
   ],
   "source": [
    "print(polygons.columns)  # 查看 polygons 中的列名\n",
    "print(aggregated_data.columns)  # 查看 aggregated_data 中的列名\n"
   ]
  },
  {
   "cell_type": "code",
   "execution_count": 41,
   "metadata": {},
   "outputs": [],
   "source": [
    "# 假設多邊形 ID 字段為 'polygon_id'，CSV 中的數值屬性為 'value'\n",
    "# 按多邊形進行聚合，這裡以平均值為例\n",
    "aggregated_data = joined.groupby('ID_left').agg({\n",
    "    'price': 'mean',  # 可以是 'sum', 'max', 'min', 等\n",
    "    'NumFloors': 'sum'  # 其他屬性\n",
    "}).reset_index()\n",
    "\n",
    "# 將聚合結果與多邊形結合\n",
    "polygons = polygons.merge(aggregated_data, on='ID_left', how='left')\n"
   ]
  },
  {
   "cell_type": "code",
   "execution_count": 42,
   "metadata": {},
   "outputs": [
    {
     "name": "stdout",
     "output_type": "stream",
     "text": [
      "整合完成，結果已保存為 'output.geojson'\n"
     ]
    }
   ],
   "source": [
    "polygons.to_file('/Users/koko.lv/Documents/GitHub/colloquium_2_2024/Data/BK/spatialJoin_outcome.geojson', driver='GeoJSON')\n",
    "\n",
    "print(\"整合完成，結果已保存為 'output.geojson'\")\n"
   ]
  },
  {
   "cell_type": "code",
   "execution_count": 48,
   "metadata": {},
   "outputs": [
    {
     "name": "stdout",
     "output_type": "stream",
     "text": [
      "     ID_left   price  NumFloors  \\\n",
      "0          1     NaN        NaN   \n",
      "1          2     NaN        1.0   \n",
      "2          3  2450.0        0.0   \n",
      "3          4  3450.0        0.0   \n",
      "4          5  4395.0        0.0   \n",
      "..       ...     ...        ...   \n",
      "565      566     NaN        0.0   \n",
      "566      567     NaN        0.0   \n",
      "567      568     NaN        3.0   \n",
      "568      569     NaN        3.0   \n",
      "569      570  3400.0        3.0   \n",
      "\n",
      "                                              geometry  \n",
      "0    POLYGON ((-73.98524 40.67607, -73.98475 40.676...  \n",
      "1    POLYGON ((-73.98524 40.67607, -73.98524 40.678...  \n",
      "2    POLYGON ((-73.98254 40.68147, -73.98055 40.681...  \n",
      "3    POLYGON ((-73.96364 40.68147, -73.96364 40.681...  \n",
      "4    POLYGON ((-73.96094 40.68147, -73.95824 40.681...  \n",
      "..                                                 ...  \n",
      "565  POLYGON ((-73.94280 40.73277, -73.94276 40.732...  \n",
      "566  POLYGON ((-73.92314 40.71117, -73.92314 40.712...  \n",
      "567  POLYGON ((-73.92584 40.71387, -73.92584 40.714...  \n",
      "568  POLYGON ((-73.95014 40.73547, -73.95014 40.736...  \n",
      "569  POLYGON ((-73.95014 40.73547, -73.95284 40.735...  \n",
      "\n",
      "[570 rows x 4 columns]\n"
     ]
    }
   ],
   "source": [
    "import geopandas as gpd\n",
    "\n",
    "file_path = '/Users/koko.lv/Documents/GitHub/colloquium_2_2024/Data/BK/spatialJoin_outcome.geojson'\n",
    "gdf = gpd.read_file(file_path)\n",
    "print(gdf)\n"
   ]
  }
 ],
 "metadata": {
  "kernelspec": {
   "display_name": "ox",
   "language": "python",
   "name": "python3"
  },
  "language_info": {
   "codemirror_mode": {
    "name": "ipython",
    "version": 3
   },
   "file_extension": ".py",
   "mimetype": "text/x-python",
   "name": "python",
   "nbconvert_exporter": "python",
   "pygments_lexer": "ipython3",
   "version": "3.12.4"
  }
 },
 "nbformat": 4,
 "nbformat_minor": 2
}
