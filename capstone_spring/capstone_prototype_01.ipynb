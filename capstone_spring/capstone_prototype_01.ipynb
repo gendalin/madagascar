{
 "cells": [
  {
   "cell_type": "code",
   "execution_count": 90,
   "metadata": {},
   "outputs": [],
   "source": [
    "import pandas as pd\n"
   ]
  },
  {
   "cell_type": "code",
   "execution_count": 91,
   "metadata": {},
   "outputs": [
    {
     "name": "stdout",
     "output_type": "stream",
     "text": [
      "   ID                      Name        Type  \\\n",
      "0  84          Al Noor market\\n      Market   \n",
      "1  27               Amma Cafe\\n        Cafe   \n",
      "2  29           Anti Co. Cafe\\n        Cafe   \n",
      "3  45  Aris Pollos A La Brasa\\n  Restaurant   \n",
      "4   8         AromaHaven Cafe\\n        Cafe   \n",
      "\n",
      "                                Position  \\\n",
      "0   40.69706612103582, -73.9061615357803   \n",
      "1    40.70220883960574, -73.900967022287   \n",
      "2  40.68600710890395, -73.92941203578029   \n",
      "3  40.69472046158922, -73.91075437057697   \n",
      "4   40.6975779658796, -73.92399058320487   \n",
      "\n",
      "                                                 Url  \\\n",
      "0  https://www.google.com/maps/place/Al+Noor+mark...   \n",
      "1  https://www.google.com/maps/place/Amma+Cafe/@4...   \n",
      "2  https://www.google.com/maps/place/Anti+Co.+Caf...   \n",
      "3  https://www.google.com/maps/place/Aris+Pollos+...   \n",
      "4  https://www.google.com/maps/place/AromaHaven+C...   \n",
      "\n",
      "                                             Summary  P_INCTOTTHOU  \\\n",
      "0  A well-stocked halal market with fresh produce...           NaN   \n",
      "1  A go-to espresso spot with a loyal following, ...         216.0   \n",
      "2  A café where vanilla syrup is homemade, banana...          55.0   \n",
      "3  A go-to for homesick Puerto Ricans, where roti...          37.0   \n",
      "4  A stylish, modern café with a welcoming vibe, ...         175.0   \n",
      "\n",
      "   P_DRIVEWORK    AREA_ALAND  AREA_AWATER  ...  AREA_RAILSTATIONS  \\\n",
      "0          NaN           NaN          NaN  ...                NaN   \n",
      "1          1.0  3.265522e+08    8653266.0  ...               39.0   \n",
      "2          0.0  8.009468e+08   35297517.0  ...               10.0   \n",
      "3          1.0  1.627263e+09  742151361.0  ...                2.0   \n",
      "4          0.0  1.194048e+09   53103740.0  ...               19.0   \n",
      "\n",
      "   AREA_RAILDENS  AREA_POPDENS              tag01                tag02  \\\n",
      "0            NaN           NaN              Halal  MiddleEasternSpices   \n",
      "1       0.119430   2613.284856           Espresso        FriendlyVibes   \n",
      "2       0.012485   1073.912713        BananaBread         VanillaLatte   \n",
      "3       0.001229    392.493956  RotisserieChicken     DominicanFlavors   \n",
      "4       0.015912    426.126815               Cafe            Breakfast   \n",
      "\n",
      "               tag03            tag04            tag05          tag06  \\\n",
      "0          PitaBread     FreshProduce       Affordable   LocalGrocery   \n",
      "1  CoffeeBeforeAShow          WineBar    LocalFavorite   QuickService   \n",
      "2      MorningRitual  HomemadeFlavors       LocalRoast  CafeCommunity   \n",
      "3       RiceAndBeans    LateNightEats      FamilyStyle    TakeoutSpot   \n",
      "4          Dominican           Coffee  FriendlyService         Trendy   \n",
      "\n",
      "                   tag07  \n",
      "0  InternationalProducts  \n",
      "1               CozySpot  \n",
      "2             SmallBatch  \n",
      "3           FlavorPacked  \n",
      "4                  Clean  \n",
      "\n",
      "[5 rows x 26 columns]\n"
     ]
    }
   ],
   "source": [
    "# Step 1: Load the CSV file\n",
    "df = pd.read_csv(\"/Users/koko.lv/Desktop/capstone_spring/capstone_prototype_BK_street_01.csv\")\n",
    "\n",
    "# Step 2: Split the 'Tag' column by spaces and remove hashtags\n",
    "df[['tag01', 'tag02', 'tag03', 'tag04', 'tag05', 'tag06', 'tag07']] = df['Tag'].str.split(' ', expand=True).iloc[:, :7]\n",
    "\n",
    "# Step 3: Remove the \"#\" symbol from each tag\n",
    "for col in ['tag01', 'tag02', 'tag03', 'tag04', 'tag05', 'tag06', 'tag07']:\n",
    "    df[col] = df[col].str.replace('#', '', regex=True)\n",
    "\n",
    "# Step 4: Drop the original 'Tag' column (optional)\n",
    "df.drop(columns=['Tag'], inplace=True)\n",
    "\n",
    "# Step 5: Save the modified DataFrame to a new CSV file\n",
    "df.to_csv(\"/Users/koko.lv/Desktop/capstone_spring/capstone_prototype_BK_street_02.csv\", index=False)\n",
    "\n",
    "# Step 6: Display the first few rows of the updated DataFrame\n",
    "print(df.head())"
   ]
  },
  {
   "cell_type": "code",
   "execution_count": 92,
   "metadata": {},
   "outputs": [
    {
     "name": "stdout",
     "output_type": "stream",
     "text": [
      "['24HourMarket', '24Hours', '24HrConvenience', 'AcaiBowl', 'AcousticVibes', 'Affordable', 'AffordableEats', 'AffordableTickets', 'AlPastor', 'Alcapurrias', 'AllAgesShows', 'AlmostFiveStars', 'ArtEvents', 'ArtSpace', 'ArtfulPastries', 'ArtisticEnergy', 'ArtisticExpression', 'ArtistsCorner', 'Artsy', 'ArtsyDecor', 'Authentic', 'AuthenticFlavors', 'AuthenticMexican', 'Backyard', 'BackyardPatio', 'BackyardVibes', 'BaconEggCheese', 'BadMovieNights', 'Bagel', 'Bagels', 'Bakery', 'BananaBread', 'BanhMi', 'BarScene', 'BarSeating', 'Barista', 'Baristas', 'BasementDancefloor', 'BeerShotCombo', 'BigPortions', 'BirriaBurrito', 'Biscuits', 'BlueberryMuffins', 'BoardGames', 'Bodega', 'BodegaCat', 'BoldFlavors', 'BoundaryPushing', 'Breakfast', 'BreakfastSandwiches', 'BrightSpace', 'Brooklyn', 'BrooklynCommute', 'BrooklynEnergy', 'BrooklynGroove', 'BrooklynNights', 'BrooklynOrQueens', 'BrooklynRaves', 'Brunch', 'Burgers', 'Burlesque', 'Bushwick', 'BushwickBars', 'BushwickEats', 'BusyButWorthIt', 'Cafe', 'CafeCommunity', 'CafeVibes', 'CashOnly', 'Casual', 'CasualVibes', 'CelebrationSpot', 'Cemetery', 'Chaos', 'CheapDrinks', 'Chicken', 'Chill', 'ChillSpots', 'Chimichanga', 'Chinese', 'ChineseFood', 'ChoppedCheese', 'Classic', 'Clean', 'CleanForNYC', 'Cocktail', 'CocktailBar', 'Cocktails', 'Coffee', 'CoffeeBeforeAShow', 'CoffeeCulture', 'CoffeeLovers', 'CoffeeStruggles', 'ColdBeer', 'ColdBrew', 'ColdDrafts', 'ComfortFood', 'CommunityConcern', 'CommunityHub', 'CommunitySpace']\n"
     ]
    }
   ],
   "source": [
    "unique_tags = pd.unique(df[['tag01', 'tag02', 'tag03', 'tag04', 'tag05', 'tag06', 'tag07']].values.ravel())\n",
    "unique_tags = sorted(filter(lambda x: pd.notna(x), unique_tags))  # Remove NaN values and sort\n",
    "\n",
    "# Step 7: Save the unique tags to a new file\n",
    "with open(\"unique_tags.txt\", \"w\") as f:\n",
    "    for tag in unique_tags:\n",
    "        f.write(tag + \"\\n\")\n",
    "\n",
    "# Also save to CSV format\n",
    "pd.DataFrame(unique_tags, columns=[\"Tag\"]).to_csv(\"/Users/koko.lv/Desktop/capstone_spring/unique_tags.csv\", index=False)\n",
    "\n",
    "# Step 8: Display first few unique tags\n",
    "print(unique_tags[:100])  # Print first 10 tags as a preview"
   ]
  }
 ],
 "metadata": {
  "kernelspec": {
   "display_name": "Python (ox)",
   "language": "python",
   "name": "ox"
  },
  "language_info": {
   "codemirror_mode": {
    "name": "ipython",
    "version": 3
   },
   "file_extension": ".py",
   "mimetype": "text/x-python",
   "name": "python",
   "nbconvert_exporter": "python",
   "pygments_lexer": "ipython3",
   "version": "3.12.4"
  }
 },
 "nbformat": 4,
 "nbformat_minor": 2
}
