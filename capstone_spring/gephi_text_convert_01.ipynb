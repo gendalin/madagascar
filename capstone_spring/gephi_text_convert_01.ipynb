{
 "cells": [
  {
   "cell_type": "code",
   "execution_count": 9,
   "metadata": {},
   "outputs": [],
   "source": [
    "import pandas as pd\n",
    "from itertools import combinations\n"
   ]
  },
  {
   "cell_type": "code",
   "execution_count": 10,
   "metadata": {},
   "outputs": [
    {
     "name": "stdout",
     "output_type": "stream",
     "text": [
      "Edges CSV created with weight capped at 7!\n"
     ]
    }
   ],
   "source": [
    "\n",
    "# Load dataset\n",
    "df = pd.read_csv(\"/Users/koko.lv/Desktop/capstone_spring/Nodes1.csv\")\n",
    "\n",
    "# Get only relevant columns\n",
    "tag_columns = ['Tag01', 'Tag02', 'Tag03','Tag04', 'Tag05', 'Tag06','Tag07']\n",
    "df_tags = df[['Id', 'Label'] + tag_columns]\n",
    "\n",
    "# Generate edges based on shared tags\n",
    "edges = []\n",
    "for i, row1 in df_tags.iterrows():\n",
    "    for j, row2 in df_tags.iterrows():\n",
    "        if i < j:  # Avoid duplicate pairs\n",
    "            shared_tags = set(row1[tag_columns]).intersection(set(row2[tag_columns]))\n",
    "            if shared_tags:\n",
    "                weight = min(len(shared_tags), 7)  # Ensures weight is capped at 7\n",
    "                edges.append((row1['Id'], row2['Id'], weight))\n",
    "\n",
    "# Convert to DataFrame and save as CSV\n",
    "edges_df = pd.DataFrame(edges, columns=['Source', 'Target', 'Weight'])\n",
    "edges_df.to_csv(\"/Users/koko.lv/Desktop/capstone_spring/Edges1.csv\", index=False)\n",
    "\n",
    "print(\"Edges CSV created with weight capped at 7!\")\n"
   ]
  }
 ],
 "metadata": {
  "kernelspec": {
   "display_name": "Python (ox)",
   "language": "python",
   "name": "ox"
  },
  "language_info": {
   "codemirror_mode": {
    "name": "ipython",
    "version": 3
   },
   "file_extension": ".py",
   "mimetype": "text/x-python",
   "name": "python",
   "nbconvert_exporter": "python",
   "pygments_lexer": "ipython3",
   "version": "3.12.4"
  }
 },
 "nbformat": 4,
 "nbformat_minor": 2
}
